{
 "cells": [
  {
   "cell_type": "code",
   "execution_count": 1,
   "id": "4fc270f4-77bf-41fb-9cfd-d88ef6251c33",
   "metadata": {},
   "outputs": [
    {
     "name": "stdout",
     "output_type": "stream",
     "text": [
      "cuda\n"
     ]
    }
   ],
   "source": [
    "import numpy as np\n",
    "import torch\n",
    "import time \n",
    "device = 'cuda' if torch.cuda.is_available else 'cpu'\n",
    "print(device)"
   ]
  },
  {
   "cell_type": "code",
   "execution_count": 2,
   "id": "16dd3c80-1206-4ee6-80df-2caa62727f01",
   "metadata": {},
   "outputs": [
    {
     "name": "stdout",
     "output_type": "stream",
     "text": [
      "0.00146675109863281250000000000000\n"
     ]
    }
   ],
   "source": [
    "#region: Time block\n",
    "start_time = time.time()\n",
    "zeros = torch.zeros(1, 1)\n",
    "end_time = time.time()\n",
    "#endregion\n",
    "\n",
    "elapsed_time = end_time - start_time\n",
    "print(f\"{elapsed_time:.32f}\")"
   ]
  },
  {
   "cell_type": "code",
   "execution_count": 3,
   "id": "0f143980-5083-4843-8c3d-e1fe061dbb2d",
   "metadata": {},
   "outputs": [
    {
     "name": "stdout",
     "output_type": "stream",
     "text": [
      "Torch(cuda) elapsed time: 0.41575122\n",
      "Numpy(cpu) elapsed time: 0.49065828\n"
     ]
    }
   ],
   "source": [
    "a, b, c, d = 100, 100, 100, 100\n",
    "torch_rand1 = torch.rand(a, b, c, d).to(device)\n",
    "torch_rand2 = torch.rand(a, b, c, d).to(device)\n",
    "np_rand1 = torch.rand(a, b, c, d).numpy()\n",
    "np_rand2 = torch.rand(a, b, c, d).numpy()\n",
    "\n",
    "start_time = time.time()\n",
    "rand = torch_rand1 @ torch_rand2\n",
    "end_time = time.time()\n",
    "\n",
    "elapsed_time = end_time - start_time\n",
    "print(f\"Torch(cuda) elapsed time: {elapsed_time:.8f}\")\n",
    "\n",
    "start_time = time.time()\n",
    "rand = np.multiply(np_rand1, np_rand2) # rand = np_rand1 * np_rand2\n",
    "end_time = time.time()\n",
    "\n",
    "elapsed_time = end_time - start_time\n",
    "print(f\"Numpy(cpu) elapsed time: {elapsed_time:.8f}\")"
   ]
  },
  {
   "cell_type": "code",
   "execution_count": 4,
   "id": "2b747f2c-cd0d-4a95-bc2c-2de039f386ea",
   "metadata": {},
   "outputs": [
    {
     "name": "stdout",
     "output_type": "stream",
     "text": [
      "0.0007395744323730469\n"
     ]
    }
   ],
   "source": [
    "t0 = time.time()\n",
    "tensors =  torch.ones(100,100) #must NOT use 10**5 -> too big\n",
    "t1 = time.time()\n",
    "delta = t1 - t0\n",
    "print(delta)"
   ]
  },
  {
   "cell_type": "code",
   "execution_count": 5,
   "id": "ca67b946-4021-481c-baa3-c42e137f5b0c",
   "metadata": {},
   "outputs": [
    {
     "name": "stdout",
     "output_type": "stream",
     "text": [
      "tensor([1., 0., 1., 1., 1., 1., 1., 1., 1., 1.])\n",
      "tensor([0., 1., 0., 1., 1., 0., 1., 1., 0., 1.])\n",
      "tensor([1., 0., 0., 1., 0., 1., 1., 1., 1., 1.])\n",
      "tensor([1., 0., 1., 0., 1., 0., 1., 1., 1., 0.])\n",
      "tensor([0., 1., 1., 1., 1., 1., 0., 1., 1., 1.])\n",
      "tensor([1., 1., 1., 1., 1., 1., 1., 0., 1., 1.])\n",
      "tensor([1., 1., 1., 1., 0., 1., 1., 1., 1., 1.])\n",
      "tensor([1., 0., 1., 1., 0., 0., 1., 0., 0., 0.])\n",
      "tensor([1., 1., 0., 1., 1., 0., 1., 0., 0., 1.])\n",
      "tensor([1., 1., 1., 1., 1., 1., 0., 1., 1., 1.])\n"
     ]
    }
   ],
   "source": [
    "#torch.multinomial\n",
    "probabilities = torch.tensor([0.3, 0.7]) #30% of 0 and 70% of 1\n",
    "a = torch.empty(10, 10)\n",
    "for i in range(10):\n",
    "    a[i] = torch.multinomial(probabilities, num_samples = 10, replacement = True) \n",
    "    print(a[i])"
   ]
  },
  {
   "cell_type": "code",
   "execution_count": 6,
   "id": "cc28f97f-5f6b-4ea3-9deb-dacefd27a92a",
   "metadata": {},
   "outputs": [
    {
     "data": {
      "text/plain": [
       "tensor([[2., 3., 1., 1.],\n",
       "        [5., 2., 1., 1.]])"
      ]
     },
     "execution_count": 6,
     "metadata": {},
     "output_type": "execute_result"
    }
   ],
   "source": [
    "#Concatenate 2-tensors\n",
    "tensor1 = torch.tensor([[2., 3.], [5., 2.]])\n",
    "tensor2 = torch.ones(2, 2)\n",
    "my_tensor = torch.cat((tensor1, tensor2), dim = 1)\n",
    "my_tensor.type\n",
    "my_tensor"
   ]
  },
  {
   "cell_type": "code",
   "execution_count": 7,
   "id": "1bae3be9-a641-4802-9af8-aa4591e7872e",
   "metadata": {},
   "outputs": [
    {
     "data": {
      "text/plain": [
       "tensor([[[1., 1., 1., 1.],\n",
       "         [1., 1., 1., 2.],\n",
       "         [1., 1., 1., 3.]],\n",
       "\n",
       "        [[1., 1., 1., 4.],\n",
       "         [1., 1., 1., 5.],\n",
       "         [1., 1., 1., 6.]],\n",
       "\n",
       "        [[1., 1., 1., 7.],\n",
       "         [1., 1., 1., 8.],\n",
       "         [1., 1., 1., 9.]]])"
      ]
     },
     "execution_count": 7,
     "metadata": {},
     "output_type": "execute_result"
    }
   ],
   "source": [
    "#Concatenate 3-tensors\n",
    "tensor1 = torch.ones(3, 3, 3)\n",
    "tensor2 = torch.tensor([[[1],[2],[3]], [[4],[5],[6]], [[7],[8],[9]] ])\n",
    "my_tensor = torch.cat((tensor1, tensor2), dim = 2)\n",
    "my_tensor"
   ]
  },
  {
   "cell_type": "code",
   "execution_count": null,
   "id": "28a633ea-d5f3-497f-b10a-2d81d30a69e6",
   "metadata": {},
   "outputs": [],
   "source": []
  }
 ],
 "metadata": {
  "kernelspec": {
   "display_name": "cuda-gpt",
   "language": "python",
   "name": "cuda"
  },
  "language_info": {
   "codemirror_mode": {
    "name": "ipython",
    "version": 3
   },
   "file_extension": ".py",
   "mimetype": "text/x-python",
   "name": "python",
   "nbconvert_exporter": "python",
   "pygments_lexer": "ipython3",
   "version": "3.13.5"
  }
 },
 "nbformat": 4,
 "nbformat_minor": 5
}
