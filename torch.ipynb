{
 "cells": [
  {
   "cell_type": "code",
   "execution_count": 1,
   "id": "4fc270f4-77bf-41fb-9cfd-d88ef6251c33",
   "metadata": {},
   "outputs": [
    {
     "name": "stdout",
     "output_type": "stream",
     "text": [
      "cuda\n"
     ]
    }
   ],
   "source": [
    "import numpy as np\n",
    "import torch\n",
    "import time \n",
    "device = 'cuda' if torch.cuda.is_available else 'cpu'\n",
    "print(device)"
   ]
  },
  {
   "cell_type": "code",
   "execution_count": 2,
   "id": "16dd3c80-1206-4ee6-80df-2caa62727f01",
   "metadata": {},
   "outputs": [
    {
     "name": "stdout",
     "output_type": "stream",
     "text": [
      "0.01177406311035156250000000000000\n"
     ]
    }
   ],
   "source": [
    "#region: Time block\n",
    "start_time = time.time()\n",
    "zeros = torch.zeros(1, 1)\n",
    "end_time = time.time()\n",
    "#endregion\n",
    "\n",
    "elapsed_time = end_time - start_time\n",
    "print(f\"{elapsed_time:.32f}\")"
   ]
  },
  {
   "cell_type": "code",
   "execution_count": 6,
   "id": "0f143980-5083-4843-8c3d-e1fe061dbb2d",
   "metadata": {},
   "outputs": [
    {
     "name": "stdout",
     "output_type": "stream",
     "text": [
      "Torch(cuda) elapsed time: 0.04861760\n",
      "Numpy(cpu) elapsed time: 0.57247329\n"
     ]
    }
   ],
   "source": [
    "a, b, c, d = 100, 100, 100, 100\n",
    "torch_rand1 = torch.rand(a, b, c, d).to(device)\n",
    "torch_rand2 = torch.rand(a, b, c, d).to(device)\n",
    "np_rand1 = torch.rand(a, b, c, d).numpy()\n",
    "np_rand2 = torch.rand(a, b, c, d).numpy()\n",
    "\n",
    "start_time = time.time()\n",
    "rand = torch_rand1 @ torch_rand2\n",
    "end_time = time.time()\n",
    "\n",
    "elapsed_time = end_time - start_time\n",
    "print(f\"Torch(cuda) elapsed time: {elapsed_time:.8f}\")\n",
    "\n",
    "start_time = time.time()\n",
    "rand = np.multiply(np_rand1, np_rand2) # rand = np_rand1 * np_rand2\n",
    "end_time = time.time()\n",
    "\n",
    "elapsed_time = end_time - start_time\n",
    "print(f\"Numpy(cpu) elapsed time: {elapsed_time:.8f}\")"
   ]
  },
  {
   "cell_type": "code",
   "execution_count": 5,
   "id": "2b747f2c-cd0d-4a95-bc2c-2de039f386ea",
   "metadata": {},
   "outputs": [
    {
     "name": "stdout",
     "output_type": "stream",
     "text": [
      "0.00012946128845214844\n"
     ]
    }
   ],
   "source": [
    "t0 = time.time()\n",
    "tensors =  torch.ones(100,100) #must NOT use 10**5 -> too big\n",
    "t1 = time.time()\n",
    "delta = t1 - t0\n",
    "print(delta)"
   ]
  },
  {
   "cell_type": "code",
   "execution_count": null,
   "id": "ca67b946-4021-481c-baa3-c42e137f5b0c",
   "metadata": {},
   "outputs": [],
   "source": []
  }
 ],
 "metadata": {
  "kernelspec": {
   "display_name": "Python 3 (ipykernel)",
   "language": "python",
   "name": "python3"
  },
  "language_info": {
   "codemirror_mode": {
    "name": "ipython",
    "version": 3
   },
   "file_extension": ".py",
   "mimetype": "text/x-python",
   "name": "python",
   "nbconvert_exporter": "python",
   "pygments_lexer": "ipython3",
   "version": "3.13.5"
  }
 },
 "nbformat": 4,
 "nbformat_minor": 5
}
